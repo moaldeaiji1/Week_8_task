{
  "cells": [
    {
      "cell_type": "markdown",
      "id": "6338e9cf",
      "metadata": {
        "id": "6338e9cf"
      },
      "source": [
        "# Fine-tuning a Sequence Classification Model Exam"
      ]
    },
    {
      "cell_type": "markdown",
      "id": "cc78efcc",
      "metadata": {
        "id": "cc78efcc"
      },
      "source": [
        "In this exam, you will be tasked with performing dataset preprocessing and fine-tuning a model for sequence classification. Complete each step carefully according to the instructions provided.\n",
        "\n",
        "### Model and Dataset Information\n",
        "\n",
        "For this task, you will be working with the following:\n",
        "\n",
        "- **Model Checkpoint**: Use the pre-trained model checkpoint `aubmindlab/bert-base-arabertv02` for both the model and tokenizer.\n",
        "- **Dataset**: You will be using the `CUTD/sanad_df` dataset. Ensure to load and preprocess the dataset correctly for training and evaluation.\n",
        "\n",
        "**Note:**\n",
        "- Any additional steps or methods you include that improve or enhance the results will be rewarded with bonus points if they are justified.\n",
        "- The steps outlined here are suggestions. You are free to implement alternative methods or approaches to achieve the task, as long as you explain the reasoning and the process at the bottom of the notebook.\n",
        "- You can use either TensorFlow or PyTorch for this task. If you prefer TensorFlow, feel free to use it when working with Hugging Face Transformers.\n",
        "- The number of data samples you choose to work with is flexible. However, if you select a very low number of samples and the training time is too short, this could affect the evaluation of your work."
      ]
    },
    {
      "cell_type": "markdown",
      "id": "e4aded80",
      "metadata": {
        "id": "e4aded80"
      },
      "source": [
        "## Step 1: Load the Dataset"
      ]
    },
    {
      "cell_type": "code",
      "source": [
        "!pip install datasets"
      ],
      "metadata": {
        "colab": {
          "base_uri": "https://localhost:8080/"
        },
        "id": "24INhxbU0zOf",
        "outputId": "b6a0a9bb-317c-4a8b-c9c0-532a968eb54b"
      },
      "id": "24INhxbU0zOf",
      "execution_count": 1,
      "outputs": [
        {
          "output_type": "stream",
          "name": "stdout",
          "text": [
            "Collecting datasets\n",
            "  Downloading datasets-3.0.0-py3-none-any.whl.metadata (19 kB)\n",
            "Requirement already satisfied: filelock in /usr/local/lib/python3.10/dist-packages (from datasets) (3.16.0)\n",
            "Requirement already satisfied: numpy>=1.17 in /usr/local/lib/python3.10/dist-packages (from datasets) (1.26.4)\n",
            "Collecting pyarrow>=15.0.0 (from datasets)\n",
            "  Downloading pyarrow-17.0.0-cp310-cp310-manylinux_2_28_x86_64.whl.metadata (3.3 kB)\n",
            "Collecting dill<0.3.9,>=0.3.0 (from datasets)\n",
            "  Downloading dill-0.3.8-py3-none-any.whl.metadata (10 kB)\n",
            "Requirement already satisfied: pandas in /usr/local/lib/python3.10/dist-packages (from datasets) (2.1.4)\n",
            "Requirement already satisfied: requests>=2.32.2 in /usr/local/lib/python3.10/dist-packages (from datasets) (2.32.3)\n",
            "Requirement already satisfied: tqdm>=4.66.3 in /usr/local/lib/python3.10/dist-packages (from datasets) (4.66.5)\n",
            "Collecting xxhash (from datasets)\n",
            "  Downloading xxhash-3.5.0-cp310-cp310-manylinux_2_17_x86_64.manylinux2014_x86_64.whl.metadata (12 kB)\n",
            "Collecting multiprocess (from datasets)\n",
            "  Downloading multiprocess-0.70.16-py310-none-any.whl.metadata (7.2 kB)\n",
            "Requirement already satisfied: fsspec<=2024.6.1,>=2023.1.0 in /usr/local/lib/python3.10/dist-packages (from fsspec[http]<=2024.6.1,>=2023.1.0->datasets) (2024.6.1)\n",
            "Requirement already satisfied: aiohttp in /usr/local/lib/python3.10/dist-packages (from datasets) (3.10.5)\n",
            "Requirement already satisfied: huggingface-hub>=0.22.0 in /usr/local/lib/python3.10/dist-packages (from datasets) (0.24.6)\n",
            "Requirement already satisfied: packaging in /usr/local/lib/python3.10/dist-packages (from datasets) (24.1)\n",
            "Requirement already satisfied: pyyaml>=5.1 in /usr/local/lib/python3.10/dist-packages (from datasets) (6.0.2)\n",
            "Requirement already satisfied: aiohappyeyeballs>=2.3.0 in /usr/local/lib/python3.10/dist-packages (from aiohttp->datasets) (2.4.0)\n",
            "Requirement already satisfied: aiosignal>=1.1.2 in /usr/local/lib/python3.10/dist-packages (from aiohttp->datasets) (1.3.1)\n",
            "Requirement already satisfied: attrs>=17.3.0 in /usr/local/lib/python3.10/dist-packages (from aiohttp->datasets) (24.2.0)\n",
            "Requirement already satisfied: frozenlist>=1.1.1 in /usr/local/lib/python3.10/dist-packages (from aiohttp->datasets) (1.4.1)\n",
            "Requirement already satisfied: multidict<7.0,>=4.5 in /usr/local/lib/python3.10/dist-packages (from aiohttp->datasets) (6.1.0)\n",
            "Requirement already satisfied: yarl<2.0,>=1.0 in /usr/local/lib/python3.10/dist-packages (from aiohttp->datasets) (1.11.1)\n",
            "Requirement already satisfied: async-timeout<5.0,>=4.0 in /usr/local/lib/python3.10/dist-packages (from aiohttp->datasets) (4.0.3)\n",
            "Requirement already satisfied: typing-extensions>=3.7.4.3 in /usr/local/lib/python3.10/dist-packages (from huggingface-hub>=0.22.0->datasets) (4.12.2)\n",
            "Requirement already satisfied: charset-normalizer<4,>=2 in /usr/local/lib/python3.10/dist-packages (from requests>=2.32.2->datasets) (3.3.2)\n",
            "Requirement already satisfied: idna<4,>=2.5 in /usr/local/lib/python3.10/dist-packages (from requests>=2.32.2->datasets) (3.8)\n",
            "Requirement already satisfied: urllib3<3,>=1.21.1 in /usr/local/lib/python3.10/dist-packages (from requests>=2.32.2->datasets) (2.0.7)\n",
            "Requirement already satisfied: certifi>=2017.4.17 in /usr/local/lib/python3.10/dist-packages (from requests>=2.32.2->datasets) (2024.8.30)\n",
            "Requirement already satisfied: python-dateutil>=2.8.2 in /usr/local/lib/python3.10/dist-packages (from pandas->datasets) (2.8.2)\n",
            "Requirement already satisfied: pytz>=2020.1 in /usr/local/lib/python3.10/dist-packages (from pandas->datasets) (2024.2)\n",
            "Requirement already satisfied: tzdata>=2022.1 in /usr/local/lib/python3.10/dist-packages (from pandas->datasets) (2024.1)\n",
            "Requirement already satisfied: six>=1.5 in /usr/local/lib/python3.10/dist-packages (from python-dateutil>=2.8.2->pandas->datasets) (1.16.0)\n",
            "Downloading datasets-3.0.0-py3-none-any.whl (474 kB)\n",
            "\u001b[2K   \u001b[90m━━━━━━━━━━━━━━━━━━━━━━━━━━━━━━━━━━━━━━━━\u001b[0m \u001b[32m474.3/474.3 kB\u001b[0m \u001b[31m15.3 MB/s\u001b[0m eta \u001b[36m0:00:00\u001b[0m\n",
            "\u001b[?25hDownloading dill-0.3.8-py3-none-any.whl (116 kB)\n",
            "\u001b[2K   \u001b[90m━━━━━━━━━━━━━━━━━━━━━━━━━━━━━━━━━━━━━━━━\u001b[0m \u001b[32m116.3/116.3 kB\u001b[0m \u001b[31m8.1 MB/s\u001b[0m eta \u001b[36m0:00:00\u001b[0m\n",
            "\u001b[?25hDownloading pyarrow-17.0.0-cp310-cp310-manylinux_2_28_x86_64.whl (39.9 MB)\n",
            "\u001b[2K   \u001b[90m━━━━━━━━━━━━━━━━━━━━━━━━━━━━━━━━━━━━━━━━\u001b[0m \u001b[32m39.9/39.9 MB\u001b[0m \u001b[31m13.4 MB/s\u001b[0m eta \u001b[36m0:00:00\u001b[0m\n",
            "\u001b[?25hDownloading multiprocess-0.70.16-py310-none-any.whl (134 kB)\n",
            "\u001b[2K   \u001b[90m━━━━━━━━━━━━━━━━━━━━━━━━━━━━━━━━━━━━━━━━\u001b[0m \u001b[32m134.8/134.8 kB\u001b[0m \u001b[31m6.9 MB/s\u001b[0m eta \u001b[36m0:00:00\u001b[0m\n",
            "\u001b[?25hDownloading xxhash-3.5.0-cp310-cp310-manylinux_2_17_x86_64.manylinux2014_x86_64.whl (194 kB)\n",
            "\u001b[2K   \u001b[90m━━━━━━━━━━━━━━━━━━━━━━━━━━━━━━━━━━━━━━━━\u001b[0m \u001b[32m194.1/194.1 kB\u001b[0m \u001b[31m10.0 MB/s\u001b[0m eta \u001b[36m0:00:00\u001b[0m\n",
            "\u001b[?25hInstalling collected packages: xxhash, pyarrow, dill, multiprocess, datasets\n",
            "  Attempting uninstall: pyarrow\n",
            "    Found existing installation: pyarrow 14.0.2\n",
            "    Uninstalling pyarrow-14.0.2:\n",
            "      Successfully uninstalled pyarrow-14.0.2\n",
            "\u001b[31mERROR: pip's dependency resolver does not currently take into account all the packages that are installed. This behaviour is the source of the following dependency conflicts.\n",
            "cudf-cu12 24.4.1 requires pyarrow<15.0.0a0,>=14.0.1, but you have pyarrow 17.0.0 which is incompatible.\n",
            "ibis-framework 8.0.0 requires pyarrow<16,>=2, but you have pyarrow 17.0.0 which is incompatible.\u001b[0m\u001b[31m\n",
            "\u001b[0mSuccessfully installed datasets-3.0.0 dill-0.3.8 multiprocess-0.70.16 pyarrow-17.0.0 xxhash-3.5.0\n"
          ]
        }
      ]
    },
    {
      "cell_type": "markdown",
      "id": "d54930f9",
      "metadata": {
        "id": "d54930f9"
      },
      "source": [
        "Load the dataset and split it into training and test sets. Use 20% of the data for testing."
      ]
    },
    {
      "cell_type": "code",
      "execution_count": 2,
      "id": "ef64e03c",
      "metadata": {
        "id": "ef64e03c"
      },
      "outputs": [],
      "source": [
        "import datasets\n",
        "import transformers as t\n",
        "from sklearn.model_selection import train_test_split\n",
        "from sklearn.preprocessing import LabelEncoder\n",
        "import numpy as np"
      ]
    },
    {
      "cell_type": "code",
      "source": [
        "data=datasets.load_dataset(\"CUTD/sanad_df\",split=\"train[0:7000]\")\n"
      ],
      "metadata": {
        "id": "HvFt1JTiumKw"
      },
      "id": "HvFt1JTiumKw",
      "execution_count": 12,
      "outputs": []
    },
    {
      "cell_type": "code",
      "source": [
        "data[0]"
      ],
      "metadata": {
        "id": "MBzpmMTU6hAP",
        "outputId": "887f74f7-ae1a-4a5b-ffae-ac68a6327196",
        "colab": {
          "base_uri": "https://localhost:8080/"
        }
      },
      "id": "MBzpmMTU6hAP",
      "execution_count": 14,
      "outputs": [
        {
          "output_type": "execute_result",
          "data": {
            "text/plain": [
              "{'Unnamed: 0': 0,\n",
              " 'text': 'الشارقة - محمد ولد محمد سالمعرضت مساء أمس الأول على خشبة مسرح قصر الثقافة في الشارقة المسرحية السعودية \"بعيداً عن السيطرة\" لفرقة مسرح الطائف، من تأليف فهد ردة الحارثي، وإخراج سامي صالح الزهراني، وذلك في رابعة ليالي الدورة الأولى من مهرجان الشارقة للمسرح الخليجي .تبدأ المسرحية بثلاثة أشخاص يجلسون في قاعة مكتبة، ينهمك كل منهم في القراءة بشغف، ثم يبدأون في الحوار لنكتشف أنهم كانوا يقرأون روايات لأستاذهم الكاتب المبدع الذي مات وترك روايات فريدة، رسم فيها شخصيات غاية في الدقة، ويتحدثون عن ضرورة تكريم أستاذهم، ويتفقون على طريقة خاصة للتكريم وهي إخراج شخصياته من رواياتها لتعيش في الواقع، وينتقون شخصيات مركزية، أولها الحلاق الذي كان طيباً، حافظاً لأسرار أهل الحي، وكان الجميع يحبه، وحين لا يكون الشخص لديه ما يدفعه مقابل الحلاقة فإنه لا يطالبه بشيء، ثم يستخرجون حفار القبور الذي كان يقبر الجميع، ويردد دائماً أن الدنيا فانية، وأن البقاء لله وحده، ثم يستخرجون الشاب المحب الذي ظل سنوات طويلة يحمل وردة وينتظر حبيبته التي رحلت عنه ولم تعد إليه حتى مات .يأخذ طلاب الأستاذ تلك الشخصيات إلى عالم جديد لتعيش فيه، ونكتشف من الحوارات أن تلك الشخصيات في عالمها الجديد تغيرت، وأصبحت شخصيات أخرى شرّيرة، وتمردت ورفضت العودة إلى الروايات التي خرجت منها، وأصبح مكانها في الروايات ثغرات تخل بروايات الأستاذ، فيَحَار الطلاب في الطريقة التي يعيدون بها تلك الشخصيات إلى أماكنها، ويقترح أحدهم إعادتها بالعنف، لكنّ آخر يرد عليه، أن تلك الشخصيات ذاقت طعم الحرية ولن تستطيع أية قوة إعادتها إلى سجن الروايات، وهنا قرر الطلاب أن يدخلوا هم ثلاثتهم إلى الروايات ليسدوا الفراغ الذي خلفته تلك الشخصيات المتمردة، وتظهر في واجهة المكان مكتبة يبدأون في الدخول إليها، وهم يوصون الجمهور قائلين \"اقبضوا على شخصياتكم، لا تدعوها تهرب منكم، فلا تعود لكم\" .فكرة استعادة شخصيات روائية أو أسطورية وجعلها تعيش في واقع مغاير فكرة أدبية رائجة، حدثت مع شخصيات شكسبير ونجيب محفوظ وغيرهما، وهي عملية جميلة لأنها مثيرة تفتح الباب للتفكير المغاير، ويحسب للكاتب والمخرج اقتحامهما لتلك التجربة، وإعادة التفكير في شخصيات لروائي افتراضي ومراقبة ماذا سيحدث لها، كما يحسب للمخرج تنوع حلوله الإخراجية التي جمعت في عرض واحد مختلف أشكال تقنيات العرض من تشكيل للإضاءة وتنويع للأزياء وعرض للشريط السينمائي، وخيال الظل والرقص الكوريغرافي والغناء والموسيقى، كل ذلك وجد له مساحة ضمن عرضه .لكن العرض يطرح إشكالات فنية ودرامية عدة، فمن الناحية الفنية بدت العديد من الخيارات الفنية منفصلة عن صلب العرض ومقحمة عليه إقحاماً، من ذلك مشهد الرقص الكوريغرافي الذي بدأت به المسرحية، قبل أن تدخل في مشهدها الأول، كذلك مشاهد خيال الظل لم توظف بشكل جيد فيما أريدت له، وقد ملأ المخرج جانبي الخشبة بحواجز لم تكن لها دلالة، وكان بين الحين والآخر يحرك شخصيات في هاتين المنطقتين في العتمة لا نعرف ما هو دورها، ولا لأي هدف وضعت هناك، والأزياء التي ظهر بها الممثلون الثلاثة حين يتقمصون شخصيات الطلاب لم تكن تعطي ملامح طلاب علم وأدب في مكتبة، بل كانت بدلات رياضية ضيقة سوداء مع طاقية سوداء أظهرتهم وكأنهم مجموعة من الغواصين .من الناحية الدرامية عانى العرض خللين عميقين، أولهما طغيان السرد، وغياب الفعل الدرامي المبني على الصراع المجسد بالحوار، فكنا طيلة الوقت أمام سرد يتبادل فيه الأشخاص الثلاثة رواية حياة الشخصيات التي استحضروها، حتى في حضور تلك الشخصيات التي تسهم بدورها في سرد حكايتها في الماضي، وبدل أن يكون استحضارها بهدف أن تعيش الواقع الجديد وتفعل فيه بدت على المسرح تسرد الماضي، حتى التغير الذي طرأ عليها لم نشاهده على الخشبة، وإنما سمعنا عنه بشكل مقتضب على ألسنة الطلاب، هكذا فقد العرض فاعليته وحرارته، ولم تصفق القاعة إلا مرة واحدة حين قال أحد الطلاب معلقا على تمرد شخصيات الروائي \"إن من ذاق الحرية لا يمكن أن يعود إلى السجن\"، وحتى هذه الحقيقة قدمت بشكل سردي مجّاني .الخلل الثاني هو أن رؤية العرض تبدو مشوشة، فما الذي يعنيه تمسك الإنسان بشخصيته حتى لا تهرب منه، وهل الشخصية قيمة مطلقة، إن هناك شخصيات شرّيرة، فهل نحث صاحبها على التمسك بها، ألا ينبغي أن تكون شخصية الإنسان متطورة في اتجاه الخير والسمو، وما الذي يعنيه اضطرار الطلاب لدخول الكتب لكي يحلوا محل الشخصيات المتمردة، هل الثورة أو ممارسة الحرية فعل محرم حتى نضطر إلى سد فراغ صاحبه، إلا الكاتب والمخرج يعترف بأن ما قامت به تلك الشخصيات هو فعل حرية، حين يعلق أحد شخصيات المسرحية \"إن من ذاق الحرية لا يمكن أن يعود إلى السجن\" .',\n",
              " 'label': 'Culture'}"
            ]
          },
          "metadata": {},
          "execution_count": 14
        }
      ]
    },
    {
      "cell_type": "code",
      "source": [
        "data=data.remove_columns([\"Unnamed: 0\"])"
      ],
      "metadata": {
        "id": "Kb8no7fhvG-C"
      },
      "id": "Kb8no7fhvG-C",
      "execution_count": 15,
      "outputs": []
    },
    {
      "cell_type": "markdown",
      "id": "c6418768",
      "metadata": {
        "id": "c6418768"
      },
      "source": [
        "Initialize a tokenizer for the model."
      ]
    },
    {
      "cell_type": "code",
      "source": [
        "tok=t.AutoTokenizer.from_pretrained(\"aubmindlab/bert-base-arabertv02\")"
      ],
      "metadata": {
        "colab": {
          "base_uri": "https://localhost:8080/"
        },
        "id": "ohpXpRt9b7KW",
        "outputId": "73f82128-c567-4e90-92bd-e39a06ebc84b"
      },
      "id": "ohpXpRt9b7KW",
      "execution_count": 16,
      "outputs": [
        {
          "output_type": "stream",
          "name": "stderr",
          "text": [
            "/usr/local/lib/python3.10/dist-packages/transformers/tokenization_utils_base.py:1601: FutureWarning: `clean_up_tokenization_spaces` was not set. It will be set to `True` by default. This behavior will be depracted in transformers v4.45, and will be then set to `False` by default. For more details check this issue: https://github.com/huggingface/transformers/issues/31884\n",
            "  warnings.warn(\n"
          ]
        }
      ]
    },
    {
      "cell_type": "code",
      "source": [
        "data"
      ],
      "metadata": {
        "colab": {
          "base_uri": "https://localhost:8080/"
        },
        "id": "nWq2TVVYvbgo",
        "outputId": "576191d8-afdd-4457-81e0-454c51a43024"
      },
      "id": "nWq2TVVYvbgo",
      "execution_count": 6,
      "outputs": [
        {
          "output_type": "execute_result",
          "data": {
            "text/plain": [
              "Dataset({\n",
              "    features: ['text', 'label'],\n",
              "    num_rows: 700\n",
              "})"
            ]
          },
          "metadata": {},
          "execution_count": 6
        }
      ]
    },
    {
      "cell_type": "code",
      "source": [
        "l=LabelEncoder()\n",
        "l.fit(data[\"label\"])"
      ],
      "metadata": {
        "colab": {
          "base_uri": "https://localhost:8080/",
          "height": 74
        },
        "id": "j-7gggnemhK_",
        "outputId": "953e853e-3afb-4e0e-b496-d7005a2140d5"
      },
      "id": "j-7gggnemhK_",
      "execution_count": 17,
      "outputs": [
        {
          "output_type": "execute_result",
          "data": {
            "text/plain": [
              "LabelEncoder()"
            ],
            "text/html": [
              "<style>#sk-container-id-2 {color: black;}#sk-container-id-2 pre{padding: 0;}#sk-container-id-2 div.sk-toggleable {background-color: white;}#sk-container-id-2 label.sk-toggleable__label {cursor: pointer;display: block;width: 100%;margin-bottom: 0;padding: 0.3em;box-sizing: border-box;text-align: center;}#sk-container-id-2 label.sk-toggleable__label-arrow:before {content: \"▸\";float: left;margin-right: 0.25em;color: #696969;}#sk-container-id-2 label.sk-toggleable__label-arrow:hover:before {color: black;}#sk-container-id-2 div.sk-estimator:hover label.sk-toggleable__label-arrow:before {color: black;}#sk-container-id-2 div.sk-toggleable__content {max-height: 0;max-width: 0;overflow: hidden;text-align: left;background-color: #f0f8ff;}#sk-container-id-2 div.sk-toggleable__content pre {margin: 0.2em;color: black;border-radius: 0.25em;background-color: #f0f8ff;}#sk-container-id-2 input.sk-toggleable__control:checked~div.sk-toggleable__content {max-height: 200px;max-width: 100%;overflow: auto;}#sk-container-id-2 input.sk-toggleable__control:checked~label.sk-toggleable__label-arrow:before {content: \"▾\";}#sk-container-id-2 div.sk-estimator input.sk-toggleable__control:checked~label.sk-toggleable__label {background-color: #d4ebff;}#sk-container-id-2 div.sk-label input.sk-toggleable__control:checked~label.sk-toggleable__label {background-color: #d4ebff;}#sk-container-id-2 input.sk-hidden--visually {border: 0;clip: rect(1px 1px 1px 1px);clip: rect(1px, 1px, 1px, 1px);height: 1px;margin: -1px;overflow: hidden;padding: 0;position: absolute;width: 1px;}#sk-container-id-2 div.sk-estimator {font-family: monospace;background-color: #f0f8ff;border: 1px dotted black;border-radius: 0.25em;box-sizing: border-box;margin-bottom: 0.5em;}#sk-container-id-2 div.sk-estimator:hover {background-color: #d4ebff;}#sk-container-id-2 div.sk-parallel-item::after {content: \"\";width: 100%;border-bottom: 1px solid gray;flex-grow: 1;}#sk-container-id-2 div.sk-label:hover label.sk-toggleable__label {background-color: #d4ebff;}#sk-container-id-2 div.sk-serial::before {content: \"\";position: absolute;border-left: 1px solid gray;box-sizing: border-box;top: 0;bottom: 0;left: 50%;z-index: 0;}#sk-container-id-2 div.sk-serial {display: flex;flex-direction: column;align-items: center;background-color: white;padding-right: 0.2em;padding-left: 0.2em;position: relative;}#sk-container-id-2 div.sk-item {position: relative;z-index: 1;}#sk-container-id-2 div.sk-parallel {display: flex;align-items: stretch;justify-content: center;background-color: white;position: relative;}#sk-container-id-2 div.sk-item::before, #sk-container-id-2 div.sk-parallel-item::before {content: \"\";position: absolute;border-left: 1px solid gray;box-sizing: border-box;top: 0;bottom: 0;left: 50%;z-index: -1;}#sk-container-id-2 div.sk-parallel-item {display: flex;flex-direction: column;z-index: 1;position: relative;background-color: white;}#sk-container-id-2 div.sk-parallel-item:first-child::after {align-self: flex-end;width: 50%;}#sk-container-id-2 div.sk-parallel-item:last-child::after {align-self: flex-start;width: 50%;}#sk-container-id-2 div.sk-parallel-item:only-child::after {width: 0;}#sk-container-id-2 div.sk-dashed-wrapped {border: 1px dashed gray;margin: 0 0.4em 0.5em 0.4em;box-sizing: border-box;padding-bottom: 0.4em;background-color: white;}#sk-container-id-2 div.sk-label label {font-family: monospace;font-weight: bold;display: inline-block;line-height: 1.2em;}#sk-container-id-2 div.sk-label-container {text-align: center;}#sk-container-id-2 div.sk-container {/* jupyter's `normalize.less` sets `[hidden] { display: none; }` but bootstrap.min.css set `[hidden] { display: none !important; }` so we also need the `!important` here to be able to override the default hidden behavior on the sphinx rendered scikit-learn.org. See: https://github.com/scikit-learn/scikit-learn/issues/21755 */display: inline-block !important;position: relative;}#sk-container-id-2 div.sk-text-repr-fallback {display: none;}</style><div id=\"sk-container-id-2\" class=\"sk-top-container\"><div class=\"sk-text-repr-fallback\"><pre>LabelEncoder()</pre><b>In a Jupyter environment, please rerun this cell to show the HTML representation or trust the notebook. <br />On GitHub, the HTML representation is unable to render, please try loading this page with nbviewer.org.</b></div><div class=\"sk-container\" hidden><div class=\"sk-item\"><div class=\"sk-estimator sk-toggleable\"><input class=\"sk-toggleable__control sk-hidden--visually\" id=\"sk-estimator-id-2\" type=\"checkbox\" checked><label for=\"sk-estimator-id-2\" class=\"sk-toggleable__label sk-toggleable__label-arrow\">LabelEncoder</label><div class=\"sk-toggleable__content\"><pre>LabelEncoder()</pre></div></div></div></div></div>"
            ]
          },
          "metadata": {},
          "execution_count": 17
        }
      ]
    },
    {
      "cell_type": "code",
      "source": [
        "data_tok = tok(data[\"text\"], return_tensors=\"tf\", padding=\"max_length\",max_length=128,truncation=True)"
      ],
      "metadata": {
        "id": "UnA6ddUrlHS-"
      },
      "id": "UnA6ddUrlHS-",
      "execution_count": 18,
      "outputs": []
    },
    {
      "cell_type": "code",
      "source": [
        "label=l.transform(data[\"label\"])\n",
        "lable=np.array(label)"
      ],
      "metadata": {
        "id": "nCHjKjtzuNYj"
      },
      "id": "nCHjKjtzuNYj",
      "execution_count": 19,
      "outputs": []
    },
    {
      "cell_type": "code",
      "source": [
        "model=t.TFAutoModelForSequenceClassification.from_pretrained(\"aubmindlab/bert-base-arabertv02\")"
      ],
      "metadata": {
        "colab": {
          "base_uri": "https://localhost:8080/",
          "height": 156,
          "referenced_widgets": [
            "dc8572b78612472a99f9158e1cf9d840",
            "db8bd2edff494c71ba991003e1b43602",
            "115c7958583b43659b0f9caa269f64c9",
            "b40ff8cc6ccd468395deb291ea3983cd",
            "1a3bd31a7d374be6aa23123f00d536cf",
            "70a035e5149944bda14b86dee2f60d14",
            "ac840609cee8496cb01e41f1f530772d",
            "c275d67320a44a5e9c6790d86c055cd1",
            "316c89b7980848698c7323a869c47853",
            "f02ae99fc0b54d28848fd9bbfee20f70",
            "f6524c59e1bf410687af683b8c454adf"
          ]
        },
        "id": "WwoJfMjQwZ9f",
        "outputId": "25e6c16a-45aa-4ce3-dff8-ce65941385d3"
      },
      "id": "WwoJfMjQwZ9f",
      "execution_count": 10,
      "outputs": [
        {
          "output_type": "display_data",
          "data": {
            "text/plain": [
              "model.safetensors:   0%|          | 0.00/543M [00:00<?, ?B/s]"
            ],
            "application/vnd.jupyter.widget-view+json": {
              "version_major": 2,
              "version_minor": 0,
              "model_id": "dc8572b78612472a99f9158e1cf9d840"
            }
          },
          "metadata": {}
        },
        {
          "output_type": "stream",
          "name": "stderr",
          "text": [
            "Some weights of the PyTorch model were not used when initializing the TF 2.0 model TFBertForSequenceClassification: ['bert.embeddings.position_ids']\n",
            "- This IS expected if you are initializing TFBertForSequenceClassification from a PyTorch model trained on another task or with another architecture (e.g. initializing a TFBertForSequenceClassification model from a BertForPreTraining model).\n",
            "- This IS NOT expected if you are initializing TFBertForSequenceClassification from a PyTorch model that you expect to be exactly identical (e.g. initializing a TFBertForSequenceClassification model from a BertForSequenceClassification model).\n",
            "Some weights or buffers of the TF 2.0 model TFBertForSequenceClassification were not initialized from the PyTorch model and are newly initialized: ['classifier.weight', 'classifier.bias']\n",
            "You should probably TRAIN this model on a down-stream task to be able to use it for predictions and inference.\n"
          ]
        }
      ]
    },
    {
      "cell_type": "code",
      "source": [
        "model.compile(optimizer=\"Adam\")\n",
        "model.fit(data_tok,label)"
      ],
      "metadata": {
        "id": "e1Y1RPvktEaY",
        "colab": {
          "base_uri": "https://localhost:8080/"
        },
        "outputId": "a1e87b31-ee97-45cd-92eb-7d445a6503bd"
      },
      "id": "e1Y1RPvktEaY",
      "execution_count": 20,
      "outputs": [
        {
          "output_type": "stream",
          "name": "stdout",
          "text": [
            "219/219 [==============================] - 240s 858ms/step - loss: 0.2917\n"
          ]
        },
        {
          "output_type": "execute_result",
          "data": {
            "text/plain": [
              "<tf_keras.src.callbacks.History at 0x7b267fb23490>"
            ]
          },
          "metadata": {},
          "execution_count": 20
        }
      ]
    },
    {
      "cell_type": "markdown",
      "id": "87441817",
      "metadata": {
        "id": "87441817"
      },
      "source": [
        "Convert the categorical labels into numerical format using a label encoder if needed."
      ]
    },
    {
      "cell_type": "markdown",
      "id": "9b7e59cb",
      "metadata": {
        "id": "9b7e59cb"
      },
      "source": [
        "## Step 11: Inference"
      ]
    },
    {
      "cell_type": "markdown",
      "id": "0c5ed70c",
      "metadata": {
        "id": "0c5ed70c"
      },
      "source": [
        "Once the model is trained, perform inference on a sample text to evaluate the model's prediction capabilities. Use the tokenizer to process the text, and then feed it into the model to get the predicted label."
      ]
    },
    {
      "cell_type": "code",
      "source": [
        "data_test=datasets.load_dataset(\"CUTD/sanad_df\",split=\"train[7000:7001]\")"
      ],
      "metadata": {
        "id": "3M5P2etn7Iud"
      },
      "id": "3M5P2etn7Iud",
      "execution_count": 21,
      "outputs": []
    },
    {
      "cell_type": "markdown",
      "source": [],
      "metadata": {
        "id": "S97nOK6T74hT"
      },
      "id": "S97nOK6T74hT"
    },
    {
      "cell_type": "code",
      "source": [
        "true_label=l.transform(data_test[\"label\"])\n",
        "true_label"
      ],
      "metadata": {
        "id": "MCtlcjWw7Vj1",
        "outputId": "ab2e12ff-5e98-41b3-852e-8ccc0cd09454",
        "colab": {
          "base_uri": "https://localhost:8080/"
        }
      },
      "id": "MCtlcjWw7Vj1",
      "execution_count": 22,
      "outputs": [
        {
          "output_type": "execute_result",
          "data": {
            "text/plain": [
              "array([1])"
            ]
          },
          "metadata": {},
          "execution_count": 22
        }
      ]
    },
    {
      "cell_type": "code",
      "execution_count": 23,
      "id": "0d90a5b5",
      "metadata": {
        "id": "0d90a5b5"
      },
      "outputs": [],
      "source": [
        "data_test_tok = tok(data_test[\"text\"], return_tensors=\"tf\", padding=\"max_length\",max_length=128,truncation=True)"
      ]
    },
    {
      "cell_type": "code",
      "source": [
        "pred=model.predict(data_test_tok)"
      ],
      "metadata": {
        "id": "Dj9BhIlQ77S3",
        "outputId": "d420113e-d389-4430-8dea-43e5e2d0865f",
        "colab": {
          "base_uri": "https://localhost:8080/"
        }
      },
      "id": "Dj9BhIlQ77S3",
      "execution_count": 25,
      "outputs": [
        {
          "output_type": "stream",
          "name": "stdout",
          "text": [
            "1/1 [==============================] - 0s 77ms/step\n"
          ]
        }
      ]
    },
    {
      "cell_type": "code",
      "source": [
        "pred"
      ],
      "metadata": {
        "id": "aZNZSLf68bPC",
        "outputId": "0e15b731-68ac-4b91-bcd4-63dd440b7abc",
        "colab": {
          "base_uri": "https://localhost:8080/"
        }
      },
      "id": "aZNZSLf68bPC",
      "execution_count": 30,
      "outputs": [
        {
          "output_type": "execute_result",
          "data": {
            "text/plain": [
              "TFSequenceClassifierOutput(loss=None, logits=array([[ 1.8468602, -1.7547098]], dtype=float32), hidden_states=None, attentions=None)"
            ]
          },
          "metadata": {},
          "execution_count": 30
        }
      ]
    }
  ],
  "metadata": {
    "language_info": {
      "name": "python"
    },
    "colab": {
      "provenance": [],
      "gpuType": "T4"
    },
    "kernelspec": {
      "name": "python3",
      "display_name": "Python 3"
    },
    "accelerator": "GPU",
    "widgets": {
      "application/vnd.jupyter.widget-state+json": {
        "dc8572b78612472a99f9158e1cf9d840": {
          "model_module": "@jupyter-widgets/controls",
          "model_name": "HBoxModel",
          "model_module_version": "1.5.0",
          "state": {
            "_dom_classes": [],
            "_model_module": "@jupyter-widgets/controls",
            "_model_module_version": "1.5.0",
            "_model_name": "HBoxModel",
            "_view_count": null,
            "_view_module": "@jupyter-widgets/controls",
            "_view_module_version": "1.5.0",
            "_view_name": "HBoxView",
            "box_style": "",
            "children": [
              "IPY_MODEL_db8bd2edff494c71ba991003e1b43602",
              "IPY_MODEL_115c7958583b43659b0f9caa269f64c9",
              "IPY_MODEL_b40ff8cc6ccd468395deb291ea3983cd"
            ],
            "layout": "IPY_MODEL_1a3bd31a7d374be6aa23123f00d536cf"
          }
        },
        "db8bd2edff494c71ba991003e1b43602": {
          "model_module": "@jupyter-widgets/controls",
          "model_name": "HTMLModel",
          "model_module_version": "1.5.0",
          "state": {
            "_dom_classes": [],
            "_model_module": "@jupyter-widgets/controls",
            "_model_module_version": "1.5.0",
            "_model_name": "HTMLModel",
            "_view_count": null,
            "_view_module": "@jupyter-widgets/controls",
            "_view_module_version": "1.5.0",
            "_view_name": "HTMLView",
            "description": "",
            "description_tooltip": null,
            "layout": "IPY_MODEL_70a035e5149944bda14b86dee2f60d14",
            "placeholder": "​",
            "style": "IPY_MODEL_ac840609cee8496cb01e41f1f530772d",
            "value": "model.safetensors: 100%"
          }
        },
        "115c7958583b43659b0f9caa269f64c9": {
          "model_module": "@jupyter-widgets/controls",
          "model_name": "FloatProgressModel",
          "model_module_version": "1.5.0",
          "state": {
            "_dom_classes": [],
            "_model_module": "@jupyter-widgets/controls",
            "_model_module_version": "1.5.0",
            "_model_name": "FloatProgressModel",
            "_view_count": null,
            "_view_module": "@jupyter-widgets/controls",
            "_view_module_version": "1.5.0",
            "_view_name": "ProgressView",
            "bar_style": "success",
            "description": "",
            "description_tooltip": null,
            "layout": "IPY_MODEL_c275d67320a44a5e9c6790d86c055cd1",
            "max": 543432324,
            "min": 0,
            "orientation": "horizontal",
            "style": "IPY_MODEL_316c89b7980848698c7323a869c47853",
            "value": 543432324
          }
        },
        "b40ff8cc6ccd468395deb291ea3983cd": {
          "model_module": "@jupyter-widgets/controls",
          "model_name": "HTMLModel",
          "model_module_version": "1.5.0",
          "state": {
            "_dom_classes": [],
            "_model_module": "@jupyter-widgets/controls",
            "_model_module_version": "1.5.0",
            "_model_name": "HTMLModel",
            "_view_count": null,
            "_view_module": "@jupyter-widgets/controls",
            "_view_module_version": "1.5.0",
            "_view_name": "HTMLView",
            "description": "",
            "description_tooltip": null,
            "layout": "IPY_MODEL_f02ae99fc0b54d28848fd9bbfee20f70",
            "placeholder": "​",
            "style": "IPY_MODEL_f6524c59e1bf410687af683b8c454adf",
            "value": " 543M/543M [00:02&lt;00:00, 230MB/s]"
          }
        },
        "1a3bd31a7d374be6aa23123f00d536cf": {
          "model_module": "@jupyter-widgets/base",
          "model_name": "LayoutModel",
          "model_module_version": "1.2.0",
          "state": {
            "_model_module": "@jupyter-widgets/base",
            "_model_module_version": "1.2.0",
            "_model_name": "LayoutModel",
            "_view_count": null,
            "_view_module": "@jupyter-widgets/base",
            "_view_module_version": "1.2.0",
            "_view_name": "LayoutView",
            "align_content": null,
            "align_items": null,
            "align_self": null,
            "border": null,
            "bottom": null,
            "display": null,
            "flex": null,
            "flex_flow": null,
            "grid_area": null,
            "grid_auto_columns": null,
            "grid_auto_flow": null,
            "grid_auto_rows": null,
            "grid_column": null,
            "grid_gap": null,
            "grid_row": null,
            "grid_template_areas": null,
            "grid_template_columns": null,
            "grid_template_rows": null,
            "height": null,
            "justify_content": null,
            "justify_items": null,
            "left": null,
            "margin": null,
            "max_height": null,
            "max_width": null,
            "min_height": null,
            "min_width": null,
            "object_fit": null,
            "object_position": null,
            "order": null,
            "overflow": null,
            "overflow_x": null,
            "overflow_y": null,
            "padding": null,
            "right": null,
            "top": null,
            "visibility": null,
            "width": null
          }
        },
        "70a035e5149944bda14b86dee2f60d14": {
          "model_module": "@jupyter-widgets/base",
          "model_name": "LayoutModel",
          "model_module_version": "1.2.0",
          "state": {
            "_model_module": "@jupyter-widgets/base",
            "_model_module_version": "1.2.0",
            "_model_name": "LayoutModel",
            "_view_count": null,
            "_view_module": "@jupyter-widgets/base",
            "_view_module_version": "1.2.0",
            "_view_name": "LayoutView",
            "align_content": null,
            "align_items": null,
            "align_self": null,
            "border": null,
            "bottom": null,
            "display": null,
            "flex": null,
            "flex_flow": null,
            "grid_area": null,
            "grid_auto_columns": null,
            "grid_auto_flow": null,
            "grid_auto_rows": null,
            "grid_column": null,
            "grid_gap": null,
            "grid_row": null,
            "grid_template_areas": null,
            "grid_template_columns": null,
            "grid_template_rows": null,
            "height": null,
            "justify_content": null,
            "justify_items": null,
            "left": null,
            "margin": null,
            "max_height": null,
            "max_width": null,
            "min_height": null,
            "min_width": null,
            "object_fit": null,
            "object_position": null,
            "order": null,
            "overflow": null,
            "overflow_x": null,
            "overflow_y": null,
            "padding": null,
            "right": null,
            "top": null,
            "visibility": null,
            "width": null
          }
        },
        "ac840609cee8496cb01e41f1f530772d": {
          "model_module": "@jupyter-widgets/controls",
          "model_name": "DescriptionStyleModel",
          "model_module_version": "1.5.0",
          "state": {
            "_model_module": "@jupyter-widgets/controls",
            "_model_module_version": "1.5.0",
            "_model_name": "DescriptionStyleModel",
            "_view_count": null,
            "_view_module": "@jupyter-widgets/base",
            "_view_module_version": "1.2.0",
            "_view_name": "StyleView",
            "description_width": ""
          }
        },
        "c275d67320a44a5e9c6790d86c055cd1": {
          "model_module": "@jupyter-widgets/base",
          "model_name": "LayoutModel",
          "model_module_version": "1.2.0",
          "state": {
            "_model_module": "@jupyter-widgets/base",
            "_model_module_version": "1.2.0",
            "_model_name": "LayoutModel",
            "_view_count": null,
            "_view_module": "@jupyter-widgets/base",
            "_view_module_version": "1.2.0",
            "_view_name": "LayoutView",
            "align_content": null,
            "align_items": null,
            "align_self": null,
            "border": null,
            "bottom": null,
            "display": null,
            "flex": null,
            "flex_flow": null,
            "grid_area": null,
            "grid_auto_columns": null,
            "grid_auto_flow": null,
            "grid_auto_rows": null,
            "grid_column": null,
            "grid_gap": null,
            "grid_row": null,
            "grid_template_areas": null,
            "grid_template_columns": null,
            "grid_template_rows": null,
            "height": null,
            "justify_content": null,
            "justify_items": null,
            "left": null,
            "margin": null,
            "max_height": null,
            "max_width": null,
            "min_height": null,
            "min_width": null,
            "object_fit": null,
            "object_position": null,
            "order": null,
            "overflow": null,
            "overflow_x": null,
            "overflow_y": null,
            "padding": null,
            "right": null,
            "top": null,
            "visibility": null,
            "width": null
          }
        },
        "316c89b7980848698c7323a869c47853": {
          "model_module": "@jupyter-widgets/controls",
          "model_name": "ProgressStyleModel",
          "model_module_version": "1.5.0",
          "state": {
            "_model_module": "@jupyter-widgets/controls",
            "_model_module_version": "1.5.0",
            "_model_name": "ProgressStyleModel",
            "_view_count": null,
            "_view_module": "@jupyter-widgets/base",
            "_view_module_version": "1.2.0",
            "_view_name": "StyleView",
            "bar_color": null,
            "description_width": ""
          }
        },
        "f02ae99fc0b54d28848fd9bbfee20f70": {
          "model_module": "@jupyter-widgets/base",
          "model_name": "LayoutModel",
          "model_module_version": "1.2.0",
          "state": {
            "_model_module": "@jupyter-widgets/base",
            "_model_module_version": "1.2.0",
            "_model_name": "LayoutModel",
            "_view_count": null,
            "_view_module": "@jupyter-widgets/base",
            "_view_module_version": "1.2.0",
            "_view_name": "LayoutView",
            "align_content": null,
            "align_items": null,
            "align_self": null,
            "border": null,
            "bottom": null,
            "display": null,
            "flex": null,
            "flex_flow": null,
            "grid_area": null,
            "grid_auto_columns": null,
            "grid_auto_flow": null,
            "grid_auto_rows": null,
            "grid_column": null,
            "grid_gap": null,
            "grid_row": null,
            "grid_template_areas": null,
            "grid_template_columns": null,
            "grid_template_rows": null,
            "height": null,
            "justify_content": null,
            "justify_items": null,
            "left": null,
            "margin": null,
            "max_height": null,
            "max_width": null,
            "min_height": null,
            "min_width": null,
            "object_fit": null,
            "object_position": null,
            "order": null,
            "overflow": null,
            "overflow_x": null,
            "overflow_y": null,
            "padding": null,
            "right": null,
            "top": null,
            "visibility": null,
            "width": null
          }
        },
        "f6524c59e1bf410687af683b8c454adf": {
          "model_module": "@jupyter-widgets/controls",
          "model_name": "DescriptionStyleModel",
          "model_module_version": "1.5.0",
          "state": {
            "_model_module": "@jupyter-widgets/controls",
            "_model_module_version": "1.5.0",
            "_model_name": "DescriptionStyleModel",
            "_view_count": null,
            "_view_module": "@jupyter-widgets/base",
            "_view_module_version": "1.2.0",
            "_view_name": "StyleView",
            "description_width": ""
          }
        }
      }
    }
  },
  "nbformat": 4,
  "nbformat_minor": 5
}